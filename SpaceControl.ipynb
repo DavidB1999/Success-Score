{
 "cells": [
  {
   "cell_type": "markdown",
   "id": "7b428893",
   "metadata": {},
   "source": [
    "# Space control\n",
    "\n",
    "This notebook is intended to deliver space control variables for both teams passed to the function. <br>\n",
    "This will later be transformed into function stored in a py.-file  <br>"
   ]
  },
  {
   "cell_type": "code",
   "execution_count": 1,
   "id": "2d8f320b",
   "metadata": {},
   "outputs": [],
   "source": [
    "from floodlight import Pitch\n",
    "from floodlight.io import dfl\n",
    "# import the custom class and associated functions\n",
    "from pies import SuccessScore as ss\n",
    "\n",
    "# read position data and match information file\n",
    "position_file = 'PositionData/DFL_04_02_positions_raw_DFL-COM-000001_DFL-MAT-0027AD.xml'\n",
    "matchinfo ='MI_Data/DFL_02_01_matchinformation_DFL-COM-000001_DFL-MAT-0027AD-Copy1.xml'\n",
    "\n",
    "# returns multipe objects; at this point we only care about the positions (xy_objects) and the pitch object (pitch)\n",
    "xy_objects, possession_objects, ballstatus_objects, teamsheets, pitch = dfl.read_position_data_xml(filepath_positions=position_file,\n",
    "                          filepath_mat_info=matchinfo)\n",
    "\n"
   ]
  },
  {
   "cell_type": "code",
   "execution_count": 2,
   "id": "4abcb648",
   "metadata": {},
   "outputs": [
    {
     "data": {
      "text/plain": [
       "TeamProperty(property=array([[0. ],\n",
       "       [0. ],\n",
       "       [0. ],\n",
       "       ...,\n",
       "       [2.5],\n",
       "       [2.5],\n",
       "       [2.5]]), name='space control Team A, right', framerate=25)"
      ]
     },
     "execution_count": 2,
     "metadata": {},
     "output_type": "execute_result"
    }
   ],
   "source": [
    "SCR_A1, SCR_B1, SCR_A2, SCR_B2, dvm1, dvm2 = ss.Space_Control(pos_data=xy_objects, pitch=pitch, area='penalty area', )\n",
    "SCR_A1"
   ]
  },
  {
   "cell_type": "code",
   "execution_count": 3,
   "id": "415f0a16",
   "metadata": {},
   "outputs": [
    {
     "data": {
      "text/plain": [
       "<Axes: >"
      ]
     },
     "execution_count": 3,
     "metadata": {},
     "output_type": "execute_result"
    },
    {
     "data": {
      "image/png": "[encoded data removed]",
      "text/plain": [
       "<Figure size 640x480 with 1 Axes>"
      ]
     },
     "metadata": {},
     "output_type": "display_data"
    }
   ],
   "source": [
    "import matplotlib.pyplot as plt\n",
    "fig, ax = plt.subplots()\n",
    "pitch.plot(ax = ax)\n",
    "dvm1.plot(ax =ax, t=1000)\n",
    "# "
   ]
  },
  {
   "cell_type": "code",
   "execution_count": 4,
   "id": "372a7d0a",
   "metadata": {},
   "outputs": [
    {
     "data": {
      "text/plain": [
       "(TeamProperty(property=array([[0.]]), name='space control Team A, right', framerate=25),\n",
       " TeamProperty(property=array([[3.75]]), name='space control, Team B, left', framerate=25))"
      ]
     },
     "execution_count": 4,
     "metadata": {},
     "output_type": "execute_result"
    }
   ],
   "source": [
    "SCR_A1.slice(1000,1001), SCR_B1.slice(1000,1001)\n",
    "# first half, B = Blue, right to left; A = red, left to right"
   ]
  },
  {
   "cell_type": "code",
   "execution_count": 5,
   "id": "30a8732d",
   "metadata": {},
   "outputs": [
    {
     "data": {
      "text/plain": [
       "(TeamProperty(property=array([[0.]]), name='space control, Team A, left', framerate=25),\n",
       " TeamProperty(property=array([[20.83]]), name='space control Team B, right', framerate=25))"
      ]
     },
     "execution_count": 5,
     "metadata": {},
     "output_type": "execute_result"
    }
   ],
   "source": [
    "SCR_A2.slice(4000,4001), SCR_B2.slice(4000,4001)\n",
    "# second half, B = Blue, left to right; A = red, right to left"
   ]
  },
  {
   "cell_type": "code",
   "execution_count": 6,
   "id": "79a11ab9",
   "metadata": {},
   "outputs": [
    {
     "data": {
      "text/plain": [
       "<Axes: >"
      ]
     },
     "execution_count": 6,
     "metadata": {},
     "output_type": "execute_result"
    },
    {
     "data": {
      "image/png": "[encoded data removed]",
      "text/plain": [
       "<Figure size 640x480 with 1 Axes>"
      ]
     },
     "metadata": {},
     "output_type": "display_data"
    }
   ],
   "source": [
    "import matplotlib.pyplot as plt\n",
    "fig, ax = plt.subplots()\n",
    "pitch.plot(ax = ax)\n",
    "dvm2.plot(ax =ax, t=4000)"
   ]
  },
  {
   "cell_type": "code",
   "execution_count": 7,
   "id": "5c2183c9",
   "metadata": {},
   "outputs": [
    {
     "name": "stdout",
     "output_type": "stream",
     "text": [
      "[33.5        35.24166667 36.98333333 38.725      40.46666667 42.20833333\n",
      " 43.95       45.69166667 47.43333333 49.175     ]\n",
      "[ 19.675       15.30277778  10.93055556   6.55833333   2.18611111\n",
      "  -2.18611111  -6.55833333 -10.93055556 -15.30277778 -19.675     ]\n"
     ]
    },
    {
     "data": {
      "text/plain": [
       "[array([[33.5       , 35.24166667, 36.98333333, 38.725     , 40.46666667,\n",
       "         42.20833333, 43.95      , 45.69166667, 47.43333333, 49.175     ],\n",
       "        [33.5       , 35.24166667, 36.98333333, 38.725     , 40.46666667,\n",
       "         42.20833333, 43.95      , 45.69166667, 47.43333333, 49.175     ],\n",
       "        [33.5       , 35.24166667, 36.98333333, 38.725     , 40.46666667,\n",
       "         42.20833333, 43.95      , 45.69166667, 47.43333333, 49.175     ],\n",
       "        [33.5       , 35.24166667, 36.98333333, 38.725     , 40.46666667,\n",
       "         42.20833333, 43.95      , 45.69166667, 47.43333333, 49.175     ],\n",
       "        [33.5       , 35.24166667, 36.98333333, 38.725     , 40.46666667,\n",
       "         42.20833333, 43.95      , 45.69166667, 47.43333333, 49.175     ],\n",
       "        [33.5       , 35.24166667, 36.98333333, 38.725     , 40.46666667,\n",
       "         42.20833333, 43.95      , 45.69166667, 47.43333333, 49.175     ],\n",
       "        [33.5       , 35.24166667, 36.98333333, 38.725     , 40.46666667,\n",
       "         42.20833333, 43.95      , 45.69166667, 47.43333333, 49.175     ],\n",
       "        [33.5       , 35.24166667, 36.98333333, 38.725     , 40.46666667,\n",
       "         42.20833333, 43.95      , 45.69166667, 47.43333333, 49.175     ],\n",
       "        [33.5       , 35.24166667, 36.98333333, 38.725     , 40.46666667,\n",
       "         42.20833333, 43.95      , 45.69166667, 47.43333333, 49.175     ],\n",
       "        [33.5       , 35.24166667, 36.98333333, 38.725     , 40.46666667,\n",
       "         42.20833333, 43.95      , 45.69166667, 47.43333333, 49.175     ]]),\n",
       " array([[ 19.675     ,  19.675     ,  19.675     ,  19.675     ,\n",
       "          19.675     ,  19.675     ,  19.675     ,  19.675     ,\n",
       "          19.675     ,  19.675     ],\n",
       "        [ 15.30277778,  15.30277778,  15.30277778,  15.30277778,\n",
       "          15.30277778,  15.30277778,  15.30277778,  15.30277778,\n",
       "          15.30277778,  15.30277778],\n",
       "        [ 10.93055556,  10.93055556,  10.93055556,  10.93055556,\n",
       "          10.93055556,  10.93055556,  10.93055556,  10.93055556,\n",
       "          10.93055556,  10.93055556],\n",
       "        [  6.55833333,   6.55833333,   6.55833333,   6.55833333,\n",
       "           6.55833333,   6.55833333,   6.55833333,   6.55833333,\n",
       "           6.55833333,   6.55833333],\n",
       "        [  2.18611111,   2.18611111,   2.18611111,   2.18611111,\n",
       "           2.18611111,   2.18611111,   2.18611111,   2.18611111,\n",
       "           2.18611111,   2.18611111],\n",
       "        [ -2.18611111,  -2.18611111,  -2.18611111,  -2.18611111,\n",
       "          -2.18611111,  -2.18611111,  -2.18611111,  -2.18611111,\n",
       "          -2.18611111,  -2.18611111],\n",
       "        [ -6.55833333,  -6.55833333,  -6.55833333,  -6.55833333,\n",
       "          -6.55833333,  -6.55833333,  -6.55833333,  -6.55833333,\n",
       "          -6.55833333,  -6.55833333],\n",
       "        [-10.93055556, -10.93055556, -10.93055556, -10.93055556,\n",
       "         -10.93055556, -10.93055556, -10.93055556, -10.93055556,\n",
       "         -10.93055556, -10.93055556],\n",
       "        [-15.30277778, -15.30277778, -15.30277778, -15.30277778,\n",
       "         -15.30277778, -15.30277778, -15.30277778, -15.30277778,\n",
       "         -15.30277778, -15.30277778],\n",
       "        [-19.675     , -19.675     , -19.675     , -19.675     ,\n",
       "         -19.675     , -19.675     , -19.675     , -19.675     ,\n",
       "         -19.675     , -19.675     ]])]"
      ]
     },
     "execution_count": 7,
     "metadata": {},
     "output_type": "execute_result"
    }
   ],
   "source": [
    "import numpy as np\n",
    "\n",
    "x = np.linspace(33.5, 50 - 0.825, 10)\n",
    "y = np.linspace(20.5-0.825, -20.5+0.825,10)\n",
    "\n",
    "print(x)\n",
    "print(y)\n",
    "\n",
    "np.meshgrid(x,y)"
   ]
  },
  {
   "cell_type": "markdown",
   "id": "e8b8b632",
   "metadata": {},
   "source": [
    "# Orientation\n",
    "\n",
    "The following code snippets document the use of the original floodlight space control calculation and adaptations not yet comprised into one function <br>"
   ]
  },
  {
   "cell_type": "code",
   "execution_count": 9,
   "id": "df417214",
   "metadata": {},
   "outputs": [],
   "source": [
    "import pandas as pd\n",
    "import floodlight\n",
    "import numpy as np\n",
    "from floodlight import Pitch\n",
    "from floodlight.io import dfl\n",
    "from floodlight.models.space import DiscreteVoronoiModel"
   ]
  },
  {
   "cell_type": "code",
   "execution_count": 10,
   "id": "f30f831b",
   "metadata": {},
   "outputs": [],
   "source": [
    "# read position data and match information file\n",
    "position_file = 'PositionData/DFL_04_02_positions_raw_DFL-COM-000001_DFL-MAT-0027AD.xml'\n",
    "matchinfo ='MI_Data/DFL_02_01_matchinformation_DFL-COM-000001_DFL-MAT-0027AD-Copy1.xml'\n",
    "\n",
    "xy_objects, possession_objects, ballstatus_objects, teamsheets, pitch = dfl.read_position_data_xml(filepath_positions=position_file,\n",
    "                          filepath_mat_info=matchinfo)\n",
    "\n",
    "# returns multipe objects; at this point we only care about the positions (xy_objects) and the pitch object (pitch)"
   ]
  },
  {
   "cell_type": "code",
   "execution_count": 11,
   "id": "07947037",
   "metadata": {},
   "outputs": [
    {
     "data": {
      "text/plain": [
       "{'firstHalf': {'Home': XY(xy=array([[ -8.23, -15.61, -16.54, ...,  18.66,    nan,    nan],\n",
       "         [ -8.25, -15.63, -16.51, ...,  18.66,    nan,    nan],\n",
       "         [ -8.26, -15.65, -16.49, ...,  18.66,    nan,    nan],\n",
       "         ...,\n",
       "         [ 18.38,  15.  ,  -7.03, ...,  28.76,    nan,    nan],\n",
       "         [ 18.37,  14.94,  -7.01, ...,  28.69,    nan,    nan],\n",
       "         [ 18.35,  14.89,  -7.  , ...,  28.62,    nan,    nan]]), framerate=25, direction=None),\n",
       "  'Away': XY(xy=array([[  2.05, -33.52,    nan, ...,  25.26,    nan,    nan],\n",
       "         [  2.01, -33.51,    nan, ...,  25.25,    nan,    nan],\n",
       "         [  1.99, -33.51,    nan, ...,  25.24,    nan,    nan],\n",
       "         ...,\n",
       "         [ 21.78,  -1.72,    nan, ...,  27.83,    nan,    nan],\n",
       "         [ 21.74,  -1.79,    nan, ...,  27.8 ,    nan,    nan],\n",
       "         [ 21.71,  -1.85,    nan, ...,  27.76,    nan,    nan]]), framerate=25, direction=None),\n",
       "  'Ball': XY(xy=array([[-0.38, -0.28],\n",
       "         [-0.35, -0.3 ],\n",
       "         [-0.33, -0.32],\n",
       "         ...,\n",
       "         [ 1.42, 18.43],\n",
       "         [ 1.37, 18.33],\n",
       "         [ 1.33, 18.22]]), framerate=25, direction=None)},\n",
       " 'secondHalf': {'Home': XY(xy=array([[ -0.87,  10.68,  12.9 , ..., -31.84,    nan,    nan],\n",
       "         [ -0.93,  10.67,  12.91, ..., -31.84,    nan,    nan],\n",
       "         [ -1.  ,  10.65,  12.91, ..., -31.84,    nan,    nan],\n",
       "         ...,\n",
       "         [ 32.27,  12.28,  42.03, ...,    nan,    nan,    nan],\n",
       "         [ 32.27,  12.28,  42.06, ...,    nan,    nan,    nan],\n",
       "         [ 32.27,  12.28,  42.09, ...,    nan,    nan,    nan]]), framerate=25, direction=None),\n",
       "  'Away': XY(xy=array([[-17.84,  15.24,    nan, ..., -10.98,    nan,    nan],\n",
       "         [-17.84,  15.24,    nan, ..., -11.  ,    nan,    nan],\n",
       "         [-17.84,  15.24,    nan, ..., -11.02,    nan,    nan],\n",
       "         ...,\n",
       "         [ 30.34,  33.91,    nan, ...,    nan,  36.96,  -0.61],\n",
       "         [ 30.37,  33.89,    nan, ...,    nan,  36.94,  -0.57],\n",
       "         [ 30.39,  33.87,    nan, ...,    nan,  36.93,  -0.55]]), framerate=25, direction=None),\n",
       "  'Ball': XY(xy=array([[-0.98, 13.68],\n",
       "         [-1.  , 13.65],\n",
       "         [-1.01, 13.61],\n",
       "         ...,\n",
       "         [23.01,  6.62],\n",
       "         [23.  ,  6.61],\n",
       "         [22.98,  6.6 ]]), framerate=25, direction=None)}}"
      ]
     },
     "execution_count": 11,
     "metadata": {},
     "output_type": "execute_result"
    }
   ],
   "source": [
    "xy_objects"
   ]
  },
  {
   "cell_type": "markdown",
   "id": "8a6ee3cd",
   "metadata": {},
   "source": [
    "## Full pitch with original floodlight"
   ]
  },
  {
   "cell_type": "code",
   "execution_count": 12,
   "id": "58ffafcb",
   "metadata": {},
   "outputs": [],
   "source": [
    "# create Voronoi model\n",
    "# check floodlight documentation for details on the options\n",
    "DVM = DiscreteVoronoiModel(pitch = pitch, mesh = 'square', xpoints=100)\n",
    "# fit model with position data of both teams \n",
    "DVM.fit(xy_objects['firstHalf']['Home'], xy_objects['firstHalf']['Away'])"
   ]
  },
  {
   "cell_type": "code",
   "execution_count": 15,
   "id": "be57f1d4",
   "metadata": {},
   "outputs": [
    {
     "name": "stdout",
     "output_type": "stream",
     "text": [
      "[[46.62]\n",
      " [46.63]\n",
      " [46.63]\n",
      " ...\n",
      " [69.93]\n",
      " [69.96]\n",
      " [69.94]]\n",
      "[[53.38]\n",
      " [53.37]\n",
      " [53.37]\n",
      " ...\n",
      " [30.07]\n",
      " [30.04]\n",
      " [30.06]]\n"
     ]
    }
   ],
   "source": [
    "SpaceControl_A, SpaceControl_B = DVM.team_controls()\n",
    "\n",
    "print(SpaceControl_A.property)\n",
    "print(SpaceControl_B.property)\n"
   ]
  },
  {
   "cell_type": "markdown",
   "id": "56eaf708",
   "metadata": {},
   "source": [
    "## Full pitch with adapted function"
   ]
  },
  {
   "cell_type": "code",
   "execution_count": 16,
   "id": "83865c95",
   "metadata": {},
   "outputs": [
    {
     "name": "stdout",
     "output_type": "stream",
     "text": [
      "Do you really care about the space control on the entire pitch?\n"
     ]
    },
    {
     "data": {
      "text/plain": [
       "(TeamProperty(property=array([[46.62],\n",
       "        [46.63],\n",
       "        [46.63],\n",
       "        ...,\n",
       "        [69.93],\n",
       "        [69.96],\n",
       "        [69.94]]), name='space control Team A, right', framerate=25),\n",
       " TeamProperty(property=array([[53.38],\n",
       "        [53.37],\n",
       "        [53.37],\n",
       "        ...,\n",
       "        [30.07],\n",
       "        [30.04],\n",
       "        [30.06]]), name='space control, Team B, left', framerate=25))"
      ]
     },
     "execution_count": 16,
     "metadata": {},
     "output_type": "execute_result"
    }
   ],
   "source": [
    "dvm = ss.DiscreteVoronoiModel(pitch = pitch, mesh = 'square', xpoints=100)\n",
    "dvm.fit(xy_objects['firstHalf']['Home'], xy_objects['firstHalf']['Away'])\n",
    "dvm.team_controls()"
   ]
  },
  {
   "cell_type": "code",
   "execution_count": 17,
   "id": "799373ad",
   "metadata": {},
   "outputs": [
    {
     "data": {
      "text/plain": [
       "<Axes: >"
      ]
     },
     "execution_count": 17,
     "metadata": {},
     "output_type": "execute_result"
    },
    {
     "data": {
      "image/png": "[encoded data removed]",
      "text/plain": [
       "<Figure size 640x480 with 1 Axes>"
      ]
     },
     "metadata": {},
     "output_type": "display_data"
    }
   ],
   "source": [
    "ax = pitch.plot()\n",
    "dvm.plot(t=1, ax = ax)"
   ]
  },
  {
   "cell_type": "markdown",
   "id": "d6b9b94e",
   "metadata": {},
   "source": [
    "## Penalty area with adapted function"
   ]
  },
  {
   "cell_type": "code",
   "execution_count": 18,
   "id": "4fc9a174",
   "metadata": {},
   "outputs": [
    {
     "data": {
      "text/plain": [
       "(TeamProperty(property=array([[0. ],\n",
       "        [0. ],\n",
       "        [0. ],\n",
       "        ...,\n",
       "        [2.5],\n",
       "        [2.5],\n",
       "        [2.5]]), name='space control Team A, right', framerate=25),\n",
       " TeamProperty(property=array([[0.],\n",
       "        [0.],\n",
       "        [0.],\n",
       "        ...,\n",
       "        [0.],\n",
       "        [0.],\n",
       "        [0.]]), name='space control, Team B, left', framerate=25))"
      ]
     },
     "execution_count": 18,
     "metadata": {},
     "output_type": "execute_result"
    }
   ],
   "source": [
    "dvm = ss.DiscreteVoronoiModel(pitch = pitch, mesh = 'square', xpoints=10, area='penalty area')\n",
    "dvm.fit(xy_objects['firstHalf']['Home'], xy_objects['firstHalf']['Away'])\n",
    "dvm.team_controls()"
   ]
  },
  {
   "cell_type": "code",
   "execution_count": 19,
   "id": "5d5aba2d",
   "metadata": {},
   "outputs": [
    {
     "data": {
      "text/plain": [
       "<Axes: >"
      ]
     },
     "execution_count": 19,
     "metadata": {},
     "output_type": "execute_result"
    },
    {
     "data": {
      "image/png": "[encoded data removed]",
      "text/plain": [
       "<Figure size 640x480 with 1 Axes>"
      ]
     },
     "metadata": {},
     "output_type": "display_data"
    }
   ],
   "source": [
    "ax = pitch.plot()\n",
    "dvm.plot(t=1000, ax = ax)"
   ]
  },
  {
   "cell_type": "markdown",
   "id": "61ddd966",
   "metadata": {},
   "source": [
    "## Half with adaptation"
   ]
  },
  {
   "cell_type": "code",
   "execution_count": 20,
   "id": "87aa246a",
   "metadata": {},
   "outputs": [
    {
     "data": {
      "text/plain": [
       "(TeamProperty(property=array([[ 2.14],\n",
       "        [ 2.14],\n",
       "        [ 2.14],\n",
       "        ...,\n",
       "        [44.29],\n",
       "        [43.57],\n",
       "        [43.57]]), name='space control Team A, right', framerate=25),\n",
       " TeamProperty(property=array([[9.29],\n",
       "        [9.29],\n",
       "        [9.29],\n",
       "        ...,\n",
       "        [5.  ],\n",
       "        [5.  ],\n",
       "        [5.71]]), name='space control, Team B, left', framerate=25))"
      ]
     },
     "execution_count": 20,
     "metadata": {},
     "output_type": "execute_result"
    }
   ],
   "source": [
    "dvm = ss.DiscreteVoronoiModel(pitch = pitch, mesh = 'square', xpoints=10, area='half')\n",
    "dvm.fit(xy_objects['firstHalf']['Home'], xy_objects['firstHalf']['Away'])\n",
    "dvm.team_controls()"
   ]
  },
  {
   "cell_type": "code",
   "execution_count": 21,
   "id": "165e62a4",
   "metadata": {},
   "outputs": [
    {
     "data": {
      "text/plain": [
       "<Axes: >"
      ]
     },
     "execution_count": 21,
     "metadata": {},
     "output_type": "execute_result"
    },
    {
     "data": {
      "image/png": "[encoded data removed]",
      "text/plain": [
       "<Figure size 640x480 with 1 Axes>"
      ]
     },
     "metadata": {},
     "output_type": "display_data"
    }
   ],
   "source": [
    "ax = pitch.plot()\n",
    "dvm.plot(t=500, ax = ax)"
   ]
  },
  {
   "cell_type": "markdown",
   "id": "18ad6a95",
   "metadata": {},
   "source": [
    "## Final third with adaptation"
   ]
  },
  {
   "cell_type": "code",
   "execution_count": 22,
   "id": "56db59d1",
   "metadata": {},
   "outputs": [
    {
     "data": {
      "text/plain": [
       "(TeamProperty(property=array([[ 0. ],\n",
       "        [ 0. ],\n",
       "        [ 0. ],\n",
       "        ...,\n",
       "        [35.5],\n",
       "        [35.5],\n",
       "        [35.5]]), name='space control Team A, right', framerate=25),\n",
       " TeamProperty(property=array([[0.],\n",
       "        [0.],\n",
       "        [0.],\n",
       "        ...,\n",
       "        [0.],\n",
       "        [0.],\n",
       "        [0.]]), name='space control, Team B, left', framerate=25))"
      ]
     },
     "execution_count": 22,
     "metadata": {},
     "output_type": "execute_result"
    }
   ],
   "source": [
    "dvm = ss.DiscreteVoronoiModel(pitch = pitch, mesh = 'square', xpoints=10, area='final third')\n",
    "dvm.fit(xy_objects['firstHalf']['Home'], xy_objects['firstHalf']['Away'])\n",
    "dvm.team_controls()"
   ]
  },
  {
   "cell_type": "code",
   "execution_count": 23,
   "id": "14f93d52",
   "metadata": {},
   "outputs": [
    {
     "data": {
      "text/plain": [
       "<Axes: >"
      ]
     },
     "execution_count": 23,
     "metadata": {},
     "output_type": "execute_result"
    },
    {
     "data": {
      "image/png": "[encoded data removed]",
      "text/plain": [
       "<Figure size 640x480 with 1 Axes>"
      ]
     },
     "metadata": {},
     "output_type": "display_data"
    }
   ],
   "source": [
    "ax = pitch.plot()\n",
    "dvm.plot(t=500, ax = ax)"
   ]
  },
  {
   "cell_type": "markdown",
   "id": "33aa3bc0",
   "metadata": {},
   "source": [
    "## 30m via adaptation"
   ]
  },
  {
   "cell_type": "code",
   "execution_count": 24,
   "id": "7297a13d",
   "metadata": {},
   "outputs": [
    {
     "data": {
      "text/plain": [
       "(TeamProperty(property=array([[ 0.  ],\n",
       "        [ 0.  ],\n",
       "        [ 0.  ],\n",
       "        ...,\n",
       "        [33.91],\n",
       "        [33.48],\n",
       "        [33.04]]), name='space control Team A, right', framerate=25),\n",
       " TeamProperty(property=array([[0.],\n",
       "        [0.],\n",
       "        [0.],\n",
       "        ...,\n",
       "        [0.],\n",
       "        [0.],\n",
       "        [0.]]), name='space control, Team B, left', framerate=25))"
      ]
     },
     "execution_count": 24,
     "metadata": {},
     "output_type": "execute_result"
    }
   ],
   "source": [
    "dvm = ss.DiscreteVoronoiModel(pitch = pitch, mesh = 'square', xpoints=10, area='30m')\n",
    "dvm.fit(xy_objects['firstHalf']['Home'], xy_objects['firstHalf']['Away'])\n",
    "dvm.team_controls()"
   ]
  },
  {
   "cell_type": "code",
   "execution_count": 25,
   "id": "4917d7a9",
   "metadata": {},
   "outputs": [
    {
     "data": {
      "text/plain": [
       "<Axes: >"
      ]
     },
     "execution_count": 25,
     "metadata": {},
     "output_type": "execute_result"
    },
    {
     "data": {
      "image/png": "[encoded data removed]",
      "text/plain": [
       "<Figure size 640x480 with 1 Axes>"
      ]
     },
     "metadata": {},
     "output_type": "display_data"
    }
   ],
   "source": [
    "ax = pitch.plot()\n",
    "dvm.plot(t=-1, ax = ax)"
   ]
  },
  {
   "cell_type": "markdown",
   "id": "b03117a8",
   "metadata": {},
   "source": [
    "## Second half"
   ]
  },
  {
   "cell_type": "code",
   "execution_count": 26,
   "id": "b11a1339",
   "metadata": {},
   "outputs": [
    {
     "data": {
      "text/plain": [
       "(TeamProperty(property=array([[0.],\n",
       "        [0.],\n",
       "        [0.],\n",
       "        ...,\n",
       "        [0.],\n",
       "        [0.],\n",
       "        [0.]]), name='space control, Team A, left', framerate=25),\n",
       " TeamProperty(property=array([[ 0.  ],\n",
       "        [ 0.  ],\n",
       "        [ 0.  ],\n",
       "        ...,\n",
       "        [20.87],\n",
       "        [20.87],\n",
       "        [20.87]]), name='space control Team B, right', framerate=25))"
      ]
     },
     "execution_count": 26,
     "metadata": {},
     "output_type": "execute_result"
    }
   ],
   "source": [
    "dvm = ss.DiscreteVoronoiModel(pitch = pitch, mesh = 'square', xpoints=10, area='30m', home_direction='rtl')\n",
    "dvm.fit(xy_objects['secondHalf']['Home'], xy_objects['secondHalf']['Away'])\n",
    "dvm.team_controls()"
   ]
  },
  {
   "cell_type": "code",
   "execution_count": 27,
   "id": "d19f3ff6",
   "metadata": {},
   "outputs": [
    {
     "data": {
      "text/plain": [
       "<Axes: >"
      ]
     },
     "execution_count": 27,
     "metadata": {},
     "output_type": "execute_result"
    },
    {
     "data": {
      "image/png": "[encoded data removed]",
      "text/plain": [
       "<Figure size 640x480 with 1 Axes>"
      ]
     },
     "metadata": {},
     "output_type": "display_data"
    }
   ],
   "source": [
    "ax = pitch.plot()\n",
    "dvm.plot(t=-1, ax = ax)"
   ]
  },
  {
   "cell_type": "markdown",
   "id": "1cc4ce87",
   "metadata": {},
   "source": [
    "# Hexagonal"
   ]
  },
  {
   "cell_type": "code",
   "execution_count": 28,
   "id": "f3943eb8",
   "metadata": {},
   "outputs": [],
   "source": [
    "SCR_A1, SCR_B1, SCR_A2, SCR_B2, dvm1, dvm2 = ss.Space_Control(pos_data=xy_objects, pitch=pitch, area='penalty area',\n",
    "                                                              meshtype= 'hexagonal')\n"
   ]
  },
  {
   "cell_type": "markdown",
   "id": "5818faf7",
   "metadata": {},
   "source": [
    "# The resulting function included in DiscreteVoronoiModel_2point0.py"
   ]
  },
  {
   "cell_type": "code",
   "execution_count": 29,
   "id": "70d57787",
   "metadata": {},
   "outputs": [],
   "source": [
    "# function to return the correct space control rates for both teams in a specific area:\n",
    "# pos_data = floodlight xy_object\n",
    "# A_direction = direction of team A in half one (either ltr or rtl)\n",
    "\n",
    "def Space_Control(pos_data, pitch, A_direction1 = 'ltr', meshtype = 'square', area = 'final third', resolution = 10, A_direction2 = None):\n",
    "    \n",
    "    A1 = pos_data['firstHalf']['Home']\n",
    "    B1 = pos_data['firstHalf']['Away']\n",
    "    A2 = pos_data['secondHalf']['Home']\n",
    "    B2 = pos_data['secondHalf']['Away']\n",
    "    \n",
    "    if A_direction2 == None:\n",
    "        if A_direction1 == 'ltr':\n",
    "            A_direction2 = 'rtl'\n",
    "        elif A_direction1 == 'rtl':\n",
    "            A_direction2 = 'ltr'\n",
    "        else:\n",
    "            raise ValueError(f'Invalid playing direction in A_direction1. Please supply one of the following options: [\"ltr\", \"rtl\"]')\n",
    "\n",
    "    # for the first half:\n",
    "    dvm = dvm2.DiscreteVoronoiModel(pitch = pitch, mesh = meshtype, xpoints=resolution, area=area, home_direction=A_direction1)\n",
    "    dvm.fit(A1, B1)\n",
    "    SCR_A1, SCR_B1 = dvm.team_controls()\n",
    "        \n",
    "    # for the second half:\n",
    "    dvm = dvm2.DiscreteVoronoiModel(pitch = pitch, mesh = meshtype, xpoints=resolution, area=area, home_direction=A_direction2)\n",
    "    dvm.fit(A2, B2)\n",
    "    SCR_A2, SCR_B2 = dvm.team_controls()\n",
    "    \n",
    "    return(SCR_A1, SCR_B1, SCR_A2, SCR_B2)"
   ]
  }
 ],
 "metadata": {
  "kernelspec": {
   "display_name": "SuccessScore_venv",
   "language": "python",
   "name": "successscore_venv"
  },
  "language_info": {
   "codemirror_mode": {
    "name": "ipython",
    "version": 3
   },
   "file_extension": ".py",
   "mimetype": "text/x-python",
   "name": "python",
   "nbconvert_exporter": "python",
   "pygments_lexer": "ipython3",
   "version": "3.10.11"
  }
 },
 "nbformat": 4,
 "nbformat_minor": 5
}
